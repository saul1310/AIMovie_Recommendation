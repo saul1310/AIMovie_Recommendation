{
  "nbformat": 4,
  "nbformat_minor": 0,
  "metadata": {
    "colab": {
      "provenance": [],
      "authorship_tag": "ABX9TyNYfOERiC+upo8egvKzcvhB",
      "include_colab_link": true
    },
    "kernelspec": {
      "name": "python3",
      "display_name": "Python 3"
    },
    "language_info": {
      "name": "python"
    }
  },
  "cells": [
    {
      "cell_type": "markdown",
      "metadata": {
        "id": "view-in-github",
        "colab_type": "text"
      },
      "source": [
        "<a href=\"https://colab.research.google.com/github/saul1310/AI_Movie_Recommendation/blob/main/LLM_Movie_recommendation.ipynb\" target=\"_parent\"><img src=\"https://colab.research.google.com/assets/colab-badge.svg\" alt=\"Open In Colab\"/></a>"
      ]
    },
    {
      "cell_type": "code",
      "source": [
        "\n",
        "import pandas as pd\n",
        "import numpy as np\n",
        "from surprise import Dataset, Reader, SVD, accuracy\n",
        "from surprise.model_selection import train_test_split\n",
        "import matplotlib.pyplot as plt"
      ],
      "metadata": {
        "id": "3vPwOudslKTy"
      },
      "execution_count": null,
      "outputs": []
    },
    {
      "cell_type": "code",
      "source": [
        "data = Dataset.load_builtin('ml-100k')"
      ],
      "metadata": {
        "id": "rbx326C8m2ms"
      },
      "execution_count": null,
      "outputs": []
    },
    {
      "cell_type": "code",
      "source": [
        "# Get the raw ratings\n",
        "raw_ratings = data.raw_ratings\n",
        "\n",
        "#how does just saying this print it out?\n",
        "# Display the first few ratings\n",
        "raw_ratings[:5]"
      ],
      "metadata": {
        "colab": {
          "base_uri": "https://localhost:8080/"
        },
        "id": "6ZTEDvNam4Oz",
        "outputId": "2b8e0f39-776a-4ed1-f07a-9df83639f082"
      },
      "execution_count": null,
      "outputs": [
        {
          "output_type": "execute_result",
          "data": {
            "text/plain": [
              "[('196', '242', 3.0, '881250949'),\n",
              " ('186', '302', 3.0, '891717742'),\n",
              " ('22', '377', 1.0, '878887116'),\n",
              " ('244', '51', 2.0, '880606923'),\n",
              " ('166', '346', 1.0, '886397596')]"
            ]
          },
          "metadata": {},
          "execution_count": 22
        }
      ]
    },
    {
      "cell_type": "code",
      "source": [
        "trainset, testset = train_test_split(data, test_size=0.25)"
      ],
      "metadata": {
        "id": "FGzIGmhynIJ9"
      },
      "execution_count": null,
      "outputs": []
    },
    {
      "cell_type": "code",
      "source": [
        "# Create an SVD model\n",
        "model = SVD()\n",
        "\n",
        "# Train the model\n",
        "model.fit(trainset)"
      ],
      "metadata": {
        "colab": {
          "base_uri": "https://localhost:8080/"
        },
        "id": "fe7nqiYonLMT",
        "outputId": "d752f76f-3654-4c80-cd4f-24312c1130dd"
      },
      "execution_count": null,
      "outputs": [
        {
          "output_type": "execute_result",
          "data": {
            "text/plain": [
              "<surprise.prediction_algorithms.matrix_factorization.SVD at 0x7e31d9279930>"
            ]
          },
          "metadata": {},
          "execution_count": 24
        }
      ]
    },
    {
      "cell_type": "code",
      "source": [
        "predictions = model.test(testset)\n",
        "\n",
        "# Compute RMSE\n",
        "rmse = accuracy.rmse(predictions)\n",
        "print(f'RMSE: {rmse}')"
      ],
      "metadata": {
        "colab": {
          "base_uri": "https://localhost:8080/"
        },
        "id": "m-AUha7AnNla",
        "outputId": "e7c41964-4386-4da9-f99f-850ad9d4981a"
      },
      "execution_count": null,
      "outputs": [
        {
          "output_type": "stream",
          "name": "stdout",
          "text": [
            "RMSE: 0.9373\n",
            "RMSE: 0.9373384152330393\n"
          ]
        }
      ]
    },
    {
      "cell_type": "code",
      "source": [
        "# Define a function to get movie recommendations for a user\n",
        "def get_recommendations(user_id, num_recommendations=10):\n",
        "    # Get a list of all movie IDs\n",
        "    movie_ids = set(iid for (_, iid, _, _) in raw_ratings)\n",
        "\n",
        "    # Predict ratings for all movies\n",
        "    predictions = [model.predict(user_id, iid) for iid in movie_ids]\n",
        "\n",
        "    # Sort predictions by estimated rating\n",
        "    recommendations = sorted(predictions, key=lambda x: x.est, reverse=True)\n",
        "\n",
        "    return recommendations[:num_recommendations]\n",
        "\n",
        "# Get recommendations for user 196\n",
        "recommendations = get_recommendations(196)\n",
        "\n",
        "# Print the recommendations\n",
        "for r in recommendations:\n",
        "    print(f'Movie ID: {r.iid}, Estimated Rating: {r.est}')\n"
      ],
      "metadata": {
        "colab": {
          "base_uri": "https://localhost:8080/"
        },
        "id": "6F7V8VeRnPJq",
        "outputId": "b3a62203-ba72-483a-9bc6-d17b44a4bbf6"
      },
      "execution_count": null,
      "outputs": [
        {
          "output_type": "stream",
          "name": "stdout",
          "text": [
            "Movie ID: 408, Estimated Rating: 4.576143223929939\n",
            "Movie ID: 318, Estimated Rating: 4.520754579881962\n",
            "Movie ID: 169, Estimated Rating: 4.5009492652738015\n",
            "Movie ID: 64, Estimated Rating: 4.498026688385403\n",
            "Movie ID: 483, Estimated Rating: 4.486938217295881\n",
            "Movie ID: 178, Estimated Rating: 4.47075652309265\n",
            "Movie ID: 603, Estimated Rating: 4.44847512312347\n",
            "Movie ID: 12, Estimated Rating: 4.439588254961921\n",
            "Movie ID: 513, Estimated Rating: 4.434712741996867\n",
            "Movie ID: 480, Estimated Rating: 4.417223499170006\n"
          ]
        }
      ]
    },
    {
      "cell_type": "code",
      "source": [
        "# Get movie IDs and estimated ratings\n",
        "movie_ids = [r.iid for r in recommendations]\n",
        "estimated_ratings = [r.est for r in recommendations]\n",
        "\n",
        "# Create a bar plot\n",
        "plt.figure(figsize=(10, 6))\n",
        "plt.bar(movie_ids, estimated_ratings, color='skyblue')\n",
        "plt.xlabel('Movie ID')\n",
        "plt.ylabel('Estimated Rating')\n",
        "plt.title('Top 10 Movie Recommendations')\n",
        "plt.show()\n"
      ],
      "metadata": {
        "colab": {
          "base_uri": "https://localhost:8080/",
          "height": 564
        },
        "id": "rRoLmkRFnQ6j",
        "outputId": "eac7172f-2f69-4c2d-dd9b-54510b54e766"
      },
      "execution_count": null,
      "outputs": [
        {
          "output_type": "display_data",
          "data": {
            "text/plain": [
              "<Figure size 1000x600 with 1 Axes>"
            ],
            "image/png": "[encoded data removed]"
          },
          "metadata": {}
        }
      ]
    },
    {
      "cell_type": "code",
      "source": [
        "import pickle\n",
        "\n",
        "# Save the model\n",
        "with open('svd_model.pkl', 'wb') as file:\n",
        "    pickle.dump(model, file)\n"
      ],
      "metadata": {
        "id": "Trmf_4PunUFz"
      },
      "execution_count": null,
      "outputs": []
    }
  ]
}